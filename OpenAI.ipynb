{
  "nbformat": 4,
  "nbformat_minor": 0,
  "metadata": {
    "colab": {
      "provenance": [],
      "toc_visible": true,
      "authorship_tag": "ABX9TyOtMRXfZfRNhKOGpTJ8tzVT",
      "include_colab_link": true
    },
    "kernelspec": {
      "name": "python3",
      "display_name": "Python 3"
    },
    "language_info": {
      "name": "python"
    }
  },
  "cells": [
    {
      "cell_type": "markdown",
      "metadata": {
        "id": "view-in-github",
        "colab_type": "text"
      },
      "source": [
        "<a href=\"https://colab.research.google.com/github/harshbopaliya/LLM/blob/main/OpenAI.ipynb\" target=\"_parent\"><img src=\"https://colab.research.google.com/assets/colab-badge.svg\" alt=\"Open In Colab\"/></a>"
      ]
    },
    {
      "cell_type": "code",
      "execution_count": 10,
      "metadata": {
        "id": "RuDyyW0aJRZ9"
      },
      "outputs": [],
      "source": [
        "#pip install openai"
      ]
    },
    {
      "cell_type": "code",
      "source": [
        "# import openai\n",
        "# from sk import my_sk\n"
      ],
      "metadata": {
        "id": "0Ret8ItvJX2R"
      },
      "execution_count": 11,
      "outputs": []
    },
    {
      "cell_type": "code",
      "source": [
        "#openai.api_key = my_sk"
      ],
      "metadata": {
        "id": "sSNROY-EPSuH"
      },
      "execution_count": 6,
      "outputs": []
    },
    {
      "cell_type": "code",
      "source": [
        "#chat_completion = openai.ChatCompletion.create(model=\"gpt-3.5-turbo\",messages=[{\"role\":\"user\",\"content\":\"Listen to your\"}])"
      ],
      "metadata": {
        "id": "tPQ3drPGPSwx"
      },
      "execution_count": 7,
      "outputs": []
    },
    {
      "cell_type": "markdown",
      "source": [],
      "metadata": {
        "id": "eYXBsbfmS5Xj"
      }
    },
    {
      "cell_type": "code",
      "source": [
        "#chat_completion.to_dict()"
      ],
      "metadata": {
        "id": "8zy-Sa2hPSza"
      },
      "execution_count": 8,
      "outputs": []
    },
    {
      "cell_type": "code",
      "source": [
        "#output = chat_completion['choices'][0]['message']['content']\n",
        "#print(output)"
      ],
      "metadata": {
        "id": "0rW0LiKTPS2y"
      },
      "execution_count": 9,
      "outputs": []
    },
    {
      "cell_type": "code",
      "source": [
        "##chat_completion = openai.ChatCompletion.create(model=\"gpt-3.5-turbo\",messages=[{\"role\":\"user\",\"content\":\"Listen to your\"}],max_tokens=1,n=5,tempature=0)"
      ],
      "metadata": {
        "id": "Tlds95f7TvsL"
      },
      "execution_count": 14,
      "outputs": []
    },
    {
      "cell_type": "code",
      "source": [
        "#tempature -> 0 determinstic\n",
        "# tempature -> 2 random select\n"
      ],
      "metadata": {
        "id": "pZA5pyvHUL31"
      },
      "execution_count": null,
      "outputs": []
    },
    {
      "cell_type": "code",
      "source": [
        "# # initial prompt with system message and 2 task examples\n",
        "# messages_list = [{\"role\":\"system\", \"content\": \"I am Roxette lyric completion assistant. When given a line from a song, I will provide the next line in the song.\"},\n",
        "#                  {\"role\":\"user\", \"content\": \"I know there's something in the wake of your smile\"},\n",
        "#                  {\"role\":\"assistant\", \"content\": \"I get a notion from the look in your eyes, yeah\"},\n",
        "#                  {\"role\":\"user\", \"content\": \"You've built a love but that love falls apart\"},\n",
        "#                  {\"role\":\"assistant\", \"content\": \"Your little piece of Heaven turns too dark\"},\n",
        "#                  {\"role\":\"user\", \"content\": \"Listen to your\"}]"
      ],
      "metadata": {
        "id": "VGKP6CcJVRHB"
      },
      "execution_count": 15,
      "outputs": []
    },
    {
      "cell_type": "code",
      "source": [
        "# for i in range(4):\n",
        "#     # create a chat completion\n",
        "#     chat_completion = openai.ChatCompletion.create(model=\"gpt-3.5-turbo\",\n",
        "#                                     messages=messages_list,\n",
        "#                                     max_tokens = 15,\n",
        "#                                     n=1,\n",
        "#                                     temperature=0)\n",
        "\n",
        "#     # print the chat completion\n",
        "#     print(chat_completion.choices[0].message.content)\n",
        "\n",
        "#     new_message = {\"role\":\"assistant\", \"content\":chat_completion.choices[0].message.content} # append new message to message list\n",
        "#     messages_list.append(new_message)\n",
        "#     time.sleep(0.1)"
      ],
      "metadata": {
        "id": "iwM5SIj8VRKJ"
      },
      "execution_count": 16,
      "outputs": []
    },
    {
      "cell_type": "code",
      "source": [
        "# #output\n",
        "# Heart when he's calling for you\n",
        "# Listen to your heart, there's nothing else you can do\n",
        "# I don't know where you're going and I don't know why\n",
        "# But listen to your heart before you tell him goodbye"
      ],
      "metadata": {
        "id": "O-1DPFNlVbHX"
      },
      "execution_count": 18,
      "outputs": []
    },
    {
      "cell_type": "code",
      "source": [
        "# Actual lyrics:\n",
        "\n",
        "# Listen to your heart when he's calling for you\n",
        "# Listen to your heart, there's nothing else you can do\n",
        "# I don't know where you're going and I don't know why\n",
        "# But listen to your heart before you tell him goodbye"
      ],
      "metadata": {
        "id": "RbxfH4XEVRNg"
      },
      "execution_count": 17,
      "outputs": []
    },
    {
      "cell_type": "code",
      "source": [
        "# for i in range(4):\n",
        "#     # create a chat completion\n",
        "#     chat_completion = openai.ChatCompletion.create(model=\"gpt-3.5-turbo\",\n",
        "#                                     messages=messages_list,\n",
        "#                                     max_tokens = 15,\n",
        "#                                     n=1,\n",
        "#                                     temperature=2)\n",
        "\n",
        "#     # print the chat completion\n",
        "#     print(chat_completion.choices[0].message.content)\n",
        "\n",
        "#     new_message = {\"role\":\"assistant\", \"content\":chat_completion.choices[0].message.content}\n",
        "#     messages_list.append(new_message)\n",
        "#     time.sleep(0.1)"
      ],
      "metadata": {
        "id": "dOxlTV4IVYkT"
      },
      "execution_count": 19,
      "outputs": []
    },
    {
      "cell_type": "code",
      "source": [
        "# #output :\n",
        "# I reach into the shadows summon Sweet Elaine\n",
        "# ﻿Pointing all steel values fails if friends remote empty Reply\n",
        "\n",
        "# Image existing\n",
        "# Long seconds confirm flesh pressed secretly Remember saint talk dying To unfamiliar pieces Father blessed\n",
        "# Speech keeps passing shape raises You travel feeling shadows Thriven bodies swept Spirit consume"
      ],
      "metadata": {
        "id": "8PZalBAgVgqk"
      },
      "execution_count": 20,
      "outputs": []
    },
    {
      "cell_type": "code",
      "source": [],
      "metadata": {
        "id": "7XJe89MWVkTs"
      },
      "execution_count": null,
      "outputs": []
    }
  ]
}